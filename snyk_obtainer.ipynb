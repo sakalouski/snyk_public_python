{
 "cells": [
  {
   "cell_type": "code",
   "execution_count": 1,
   "metadata": {},
   "outputs": [],
   "source": [
    "import Naked as nk\n",
    "from Naked.toolshed.shell import execute_js, muterun_js,execute\n",
    "import os\n",
    "import json"
   ]
  },
  {
   "cell_type": "code",
   "execution_count": 282,
   "metadata": {
    "scrolled": true
   },
   "outputs": [],
   "source": [
    "import ast\n",
    "#Requires snyk1.js to be placed in the same folder as the notebook\n",
    "\n",
    "def prase_snyk(arguments='numpy'):\n",
    "    \n",
    "    struct = muterun_js(file_path='./snyk1.js',arguments=arguments)\n",
    "    \n",
    "    output = struct.stdout\n",
    "    errors = struct.stderr\n",
    "    \n",
    "    #handling errors...\n",
    "    if errors != b'':\n",
    "        print('There is an error in a JS part: '+errors)\n",
    "        return \n",
    "    if b'UnhandledPromiseRejectionWarning' in output:\n",
    "        print('Unhandled Promise Rejection Warning - module information is unavailable')\n",
    "        return []\n",
    "    if struct.exitcode != 0:\n",
    "        print('Exitcode is nonzero - check the input!')\n",
    "        return\n",
    "    \n",
    "    #creating a list of vulnerabilities, where each element is a dict, containing vulnerability features\n",
    "    feats = ['ok:','title:','moduleName:','packageName:','language:','packageManager:','description:','severity:','cvssScore:','CVSSv3:','creationTime:','modificationTime:','publicationTime:','disclosureTime:','id:','version:','name:','isUpgradable:','isPatchable:']\n",
    "    summary_feats = ['uniqueCount:','summary:','severityMap:','numDependencies:']\n",
    "\n",
    "    result = []\n",
    "    splitted = (struct.stdout).decode('utf8').splitlines(0)\n",
    "    while \" \".join(splitted).count('cvssScore:')>0:\n",
    "        d = {}\n",
    "        for feat in feats:\n",
    "            for line in splitted:\n",
    "                raw_line = line\n",
    "                line = line.replace('}','').replace('{','')\n",
    "                if feat in line:\n",
    "                    d[feat[:-1]] = line[line.find(':')+2:-1]\n",
    "                    if feat[:-1] not in 'ok, isPatchable, isUpgradable': # boolean valule outputs\n",
    "                        d[feat[:-1]] = ast.literal_eval(d[feat[:-1]])\n",
    "                    else:\n",
    "                        d[feat[:-1]] = d[feat[:-1]].replace(' ','')\n",
    "                    splitted.remove(raw_line)\n",
    "                    break\n",
    "        result.append(d)\n",
    "        \n",
    "    #overwhole statistics for the module\n",
    "    summary = {}\n",
    "    for feat in summary_feats:\n",
    "        for line in splitted:\n",
    "            if feat in line:\n",
    "                summary[feat[:-1]] = line[line.find(':')+2:-1]\n",
    "                if feat[:-1] == 'summary':\n",
    "                    summary[feat[:-1]] = summary[feat[:-1]][1:-1]\n",
    "    return result, summary"
   ]
  },
  {
   "cell_type": "code",
   "execution_count": 283,
   "metadata": {},
   "outputs": [],
   "source": [
    "res,summ = prase_snyk('scipy')"
   ]
  }
 ],
 "metadata": {
  "kernelspec": {
   "display_name": "Python 3",
   "language": "python",
   "name": "python3"
  },
  "language_info": {
   "codemirror_mode": {
    "name": "ipython",
    "version": 3
   },
   "file_extension": ".py",
   "mimetype": "text/x-python",
   "name": "python",
   "nbconvert_exporter": "python",
   "pygments_lexer": "ipython3",
   "version": "3.6.3"
  }
 },
 "nbformat": 4,
 "nbformat_minor": 2
}
